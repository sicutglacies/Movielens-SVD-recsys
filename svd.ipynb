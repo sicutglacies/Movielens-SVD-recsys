{
  "nbformat": 4,
  "nbformat_minor": 0,
  "metadata": {
    "colab": {
      "name": "VK.ipynb",
      "provenance": [],
      "collapsed_sections": []
    },
    "kernelspec": {
      "display_name": "Python 3",
      "name": "python3"
    },
    "language_info": {
      "name": "python"
    }
  },
  "cells": [
    {
      "cell_type": "code",
      "metadata": {
        "colab": {
          "base_uri": "https://localhost:8080/"
        },
        "id": "bKxUiYWVxtqW",
        "outputId": "44b36c9e-f83a-446c-85ee-462ab3f59037"
      },
      "source": [
        "!wget https://files.grouplens.org/datasets/movielens/ml-1m.zip\n",
        "!unzip ml-1m.zip\n",
        "!mv ml-1m/ data/"
      ],
      "execution_count": 1,
      "outputs": [
        {
          "output_type": "stream",
          "text": [
            "--2021-06-23 20:00:15--  https://files.grouplens.org/datasets/movielens/ml-1m.zip\n",
            "Resolving files.grouplens.org (files.grouplens.org)... 128.101.65.152\n",
            "Connecting to files.grouplens.org (files.grouplens.org)|128.101.65.152|:443... connected.\n",
            "HTTP request sent, awaiting response... 200 OK\n",
            "Length: 5917549 (5.6M) [application/zip]\n",
            "Saving to: ‘ml-1m.zip’\n",
            "\n",
            "ml-1m.zip           100%[===================>]   5.64M  3.72MB/s    in 1.5s    \n",
            "\n",
            "2021-06-23 20:00:17 (3.72 MB/s) - ‘ml-1m.zip’ saved [5917549/5917549]\n",
            "\n",
            "Archive:  ml-1m.zip\n",
            "   creating: ml-1m/\n",
            "  inflating: ml-1m/movies.dat        \n",
            "  inflating: ml-1m/ratings.dat       \n",
            "  inflating: ml-1m/README            \n",
            "  inflating: ml-1m/users.dat         \n"
          ],
          "name": "stdout"
        }
      ]
    },
    {
      "cell_type": "code",
      "metadata": {
        "id": "0p7B9EkYM2Ki"
      },
      "source": [
        "import os\n",
        "import gc\n",
        "\n",
        "import pandas as pd\n",
        "import numpy as np\n",
        "\n",
        "from scipy.linalg import sqrtm\n",
        "from sklearn.metrics import mean_squared_error as mse\n",
        "\n",
        "from tqdm import tqdm"
      ],
      "execution_count": 2,
      "outputs": []
    },
    {
      "cell_type": "code",
      "metadata": {
        "colab": {
          "base_uri": "https://localhost:8080/"
        },
        "id": "egoGhWy7fWD9",
        "outputId": "59443365-f4da-4fad-d326-fd548e73a0f7"
      },
      "source": [
        "ratings_list = [i.strip().split(\"::\") for i in open('data/ratings.dat', 'r').readlines()]\n",
        "data = pd.DataFrame(ratings_list, columns = ['user_id', 'movie_id', 'rating', 'timestamp'], dtype = int)\n",
        "data['timestamp'] = data['timestamp'].apply(int)\n",
        "data['rating'] = data['rating'].apply(float)\n",
        "del ratings_list\n",
        "gc.collect()"
      ],
      "execution_count": 3,
      "outputs": [
        {
          "output_type": "execute_result",
          "data": {
            "text/plain": [
              "0"
            ]
          },
          "metadata": {
            "tags": []
          },
          "execution_count": 3
        }
      ]
    },
    {
      "cell_type": "code",
      "metadata": {
        "colab": {
          "base_uri": "https://localhost:8080/"
        },
        "id": "mg4VF-3kzvcR",
        "outputId": "0ef803a0-a6fe-4d6d-ce2a-335e8d8899f7"
      },
      "source": [
        "data.shape"
      ],
      "execution_count": 4,
      "outputs": [
        {
          "output_type": "execute_result",
          "data": {
            "text/plain": [
              "(1000209, 4)"
            ]
          },
          "metadata": {
            "tags": []
          },
          "execution_count": 4
        }
      ]
    },
    {
      "cell_type": "code",
      "metadata": {
        "colab": {
          "base_uri": "https://localhost:8080/",
          "height": 204
        },
        "id": "9Q_BU9gJ1kWO",
        "outputId": "2a7d8939-9ac7-41d1-ab50-8260f87485f6"
      },
      "source": [
        "data.head()"
      ],
      "execution_count": 5,
      "outputs": [
        {
          "output_type": "execute_result",
          "data": {
            "text/html": [
              "<div>\n",
              "<style scoped>\n",
              "    .dataframe tbody tr th:only-of-type {\n",
              "        vertical-align: middle;\n",
              "    }\n",
              "\n",
              "    .dataframe tbody tr th {\n",
              "        vertical-align: top;\n",
              "    }\n",
              "\n",
              "    .dataframe thead th {\n",
              "        text-align: right;\n",
              "    }\n",
              "</style>\n",
              "<table border=\"1\" class=\"dataframe\">\n",
              "  <thead>\n",
              "    <tr style=\"text-align: right;\">\n",
              "      <th></th>\n",
              "      <th>user_id</th>\n",
              "      <th>movie_id</th>\n",
              "      <th>rating</th>\n",
              "      <th>timestamp</th>\n",
              "    </tr>\n",
              "  </thead>\n",
              "  <tbody>\n",
              "    <tr>\n",
              "      <th>0</th>\n",
              "      <td>1</td>\n",
              "      <td>1193</td>\n",
              "      <td>5.0</td>\n",
              "      <td>978300760</td>\n",
              "    </tr>\n",
              "    <tr>\n",
              "      <th>1</th>\n",
              "      <td>1</td>\n",
              "      <td>661</td>\n",
              "      <td>3.0</td>\n",
              "      <td>978302109</td>\n",
              "    </tr>\n",
              "    <tr>\n",
              "      <th>2</th>\n",
              "      <td>1</td>\n",
              "      <td>914</td>\n",
              "      <td>3.0</td>\n",
              "      <td>978301968</td>\n",
              "    </tr>\n",
              "    <tr>\n",
              "      <th>3</th>\n",
              "      <td>1</td>\n",
              "      <td>3408</td>\n",
              "      <td>4.0</td>\n",
              "      <td>978300275</td>\n",
              "    </tr>\n",
              "    <tr>\n",
              "      <th>4</th>\n",
              "      <td>1</td>\n",
              "      <td>2355</td>\n",
              "      <td>5.0</td>\n",
              "      <td>978824291</td>\n",
              "    </tr>\n",
              "  </tbody>\n",
              "</table>\n",
              "</div>"
            ],
            "text/plain": [
              "  user_id movie_id  rating  timestamp\n",
              "0       1     1193     5.0  978300760\n",
              "1       1      661     3.0  978302109\n",
              "2       1      914     3.0  978301968\n",
              "3       1     3408     4.0  978300275\n",
              "4       1     2355     5.0  978824291"
            ]
          },
          "metadata": {
            "tags": []
          },
          "execution_count": 5
        }
      ]
    },
    {
      "cell_type": "code",
      "metadata": {
        "colab": {
          "base_uri": "https://localhost:8080/"
        },
        "id": "wn583x1t2P_9",
        "outputId": "797eea21-234a-4211-a80b-5173267e893b"
      },
      "source": [
        "print('Unique users:', data['user_id'].nunique())\n",
        "print('Unique movies:', data['movie_id'].nunique())"
      ],
      "execution_count": 6,
      "outputs": [
        {
          "output_type": "stream",
          "text": [
            "Unique users: 6040\n",
            "Unique movies: 3706\n"
          ],
          "name": "stdout"
        }
      ]
    },
    {
      "cell_type": "code",
      "metadata": {
        "id": "900mzXHMutgp"
      },
      "source": [
        "def split_df(data, test_size=0.2):\n",
        "    data['rank_latest'] = data.groupby(['user_id'])['timestamp'].rank(method='first', ascending=False)\n",
        "\n",
        "    data = data.merge(data.groupby(['user_id'])['timestamp'].count(), on='user_id')\n",
        "    data.columns = ['user_id', 'movie_id', 'rating', 'timestamp', 'rank_latest', 'review_count']\n",
        "\n",
        "    data['test_samples_count'] = data['review_count'] - np.floor(data['review_count'] * test_size)\n",
        "\n",
        "    train_ratings = data[data['rank_latest'] <= data['test_samples_count']]\n",
        "    test_ratings = data[data['rank_latest'] > data['test_samples_count']]\n",
        "\n",
        "    train_ratings = train_ratings[['user_id', 'movie_id', 'rating']]\n",
        "    test_ratings = test_ratings[['user_id', 'movie_id', 'rating']]\n",
        "    return train_ratings, test_ratings"
      ],
      "execution_count": 7,
      "outputs": []
    },
    {
      "cell_type": "code",
      "metadata": {
        "id": "DovWsGC2Fj6g"
      },
      "source": [
        "train, test = split_df(data, 0.15)"
      ],
      "execution_count": 8,
      "outputs": []
    },
    {
      "cell_type": "code",
      "metadata": {
        "id": "WT96NNRmzJ_9"
      },
      "source": [
        "def create_utility_matrix(data):\n",
        "    userList = data.iloc[:, 0].tolist()\n",
        "    itemList = data.iloc[:, 1].tolist()\n",
        "    valueList = data.iloc[:, 2].tolist()\n",
        "\n",
        "    users = data['user_id'].unique()\n",
        "    items = data['movie_id'].unique()\n",
        "\n",
        "    users_index = {users[i]: i for i in range(len(users))}\n",
        "    pd_dict = {item: [np.nan for i in range(len(users))] for item in items}\n",
        "\n",
        "    for i in range(0,len(data)):\n",
        "        pd_dict[itemList[i]][users_index[userList[i]]] = valueList[i]\n",
        "    X = pd.DataFrame(pd_dict)\n",
        "    X.index = users\n",
        "        \n",
        "    itemcols = list(X.columns)\n",
        "    items_index = {itemcols[i]: i for i in range(len(itemcols))}\n",
        "    return X, users_index, items_index"
      ],
      "execution_count": 9,
      "outputs": []
    },
    {
      "cell_type": "code",
      "metadata": {
        "id": "H0nxP4Anzrn3"
      },
      "source": [
        "def svd(train, k):\n",
        "    util_mat = np.array(train)\n",
        "    mask = np.isnan(util_mat)\n",
        "    masked_arr = np.ma.masked_array(util_mat, mask)\n",
        "\n",
        "    item_means = np.mean(masked_arr, axis=0)\n",
        "    util_mat = masked_arr.filled(item_means)\n",
        "    x = np.tile(item_means, (util_mat.shape[0],1))\n",
        "    util_mat = util_mat - x\n",
        "\n",
        "    U, s, V = np.linalg.svd(util_mat, full_matrices=False)\n",
        "    s = np.diag(s)\n",
        "\n",
        "    s = s[0:k,0:k]\n",
        "    U = U[:,0:k]\n",
        "    V = V[0:k,:]\n",
        "\n",
        "    s_root = sqrtm(s)\n",
        "    Usk = np.dot(U,s_root)\n",
        "    skV = np.dot(s_root,V)\n",
        "\n",
        "    UsV = np.dot(Usk, skV)\n",
        "    UsV = UsV + x\n",
        "    return UsV"
      ],
      "execution_count": 10,
      "outputs": []
    },
    {
      "cell_type": "code",
      "metadata": {
        "colab": {
          "base_uri": "https://localhost:8080/"
        },
        "id": "Lg4jQ6Ftz0VD",
        "outputId": "fbb8429d-ddb6-4191-e1e9-8eba9c16dab4"
      },
      "source": [
        "no_of_features = [8, 10, 12, 14, 17]\n",
        "util_mat, users_index, items_index = create_utility_matrix(train)\n",
        "for f in tqdm(no_of_features): \n",
        "    svdout = svd(util_mat, k=f)\n",
        "    pred = []\n",
        "    for _, row in test.iterrows():\n",
        "        user = row['user_id']\n",
        "        item = row['movie_id']\n",
        "        u_index = users_index[user]\n",
        "        if item in items_index:\n",
        "            i_index = items_index[item]\n",
        "            pred_rating = svdout[u_index, i_index]\n",
        "        else:\n",
        "            pred_rating = np.mean(svdout[u_index, :])\n",
        "        pred.append(pred_rating)"
      ],
      "execution_count": 11,
      "outputs": [
        {
          "output_type": "stream",
          "text": [
            "100%|██████████| 5/5 [06:35<00:00, 79.04s/it]\n"
          ],
          "name": "stderr"
        }
      ]
    },
    {
      "cell_type": "code",
      "metadata": {
        "colab": {
          "base_uri": "https://localhost:8080/"
        },
        "id": "cbsQuroM0gPB",
        "outputId": "6acf269e-6c9f-46ab-8b93-f451643cea89"
      },
      "source": [
        "np.sqrt(mse(test.rating, pred))"
      ],
      "execution_count": 12,
      "outputs": [
        {
          "output_type": "execute_result",
          "data": {
            "text/plain": [
              "0.9328478752246858"
            ]
          },
          "metadata": {
            "tags": []
          },
          "execution_count": 12
        }
      ]
    },
    {
      "cell_type": "code",
      "metadata": {
        "id": "asZcY97PPPGv"
      },
      "source": [
        ""
      ],
      "execution_count": null,
      "outputs": []
    }
  ]
}